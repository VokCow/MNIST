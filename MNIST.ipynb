{
 "cells": [
  {
   "cell_type": "code",
   "execution_count": 1,
   "metadata": {},
   "outputs": [],
   "source": [
    "import torch\n",
    "import numpy as np\n",
    "import matplotlib.pyplot as plt\n",
    "import torchvision\n",
    "import torchvision.transforms as transforms\n",
    "import time"
   ]
  },
  {
   "cell_type": "markdown",
   "metadata": {},
   "source": [
    "# MINST"
   ]
  },
  {
   "cell_type": "markdown",
   "metadata": {},
   "source": [
    "## Data Loading"
   ]
  },
  {
   "cell_type": "code",
   "execution_count": 2,
   "metadata": {},
   "outputs": [],
   "source": [
    "mean,std = 0,1\n",
    "transform = transforms.Compose([transforms.ToTensor(),transforms.Normalize([mean],[std])])"
   ]
  },
  {
   "cell_type": "code",
   "execution_count": 3,
   "metadata": {},
   "outputs": [],
   "source": [
    "nbatch = 5\n",
    "trainset = torchvision.datasets.MNIST(root=\"./MNISTdataset\",train=True,download=True,transform=transform)\n",
    "trainLoader = torch.utils.data.DataLoader(trainset,batch_size=nbatch,shuffle=True,num_workers=2) # no idea what shuffle and nworkers do\n",
    "testset = torchvision.datasets.MNIST(root=\"./MNISTdataset\",train=False,download=True,transform=transform)\n",
    "testLoader =  torch.utils.data.DataLoader(testset,batch_size=nbatch,shuffle=True,num_workers=2) "
   ]
  },
  {
   "cell_type": "code",
   "execution_count": null,
   "metadata": {},
   "outputs": [],
   "source": []
  },
  {
   "cell_type": "code",
   "execution_count": 5,
   "metadata": {},
   "outputs": [
    {
     "name": "stdout",
     "output_type": "stream",
     "text": [
      "0 3 9 7 5\n"
     ]
    },
    {
     "data": {
      "image/png": "[encoded data removed]",
      "text/plain": [
       "<Figure size 432x288 with 1 Axes>"
      ]
     },
     "metadata": {
      "needs_background": "light"
     },
     "output_type": "display_data"
    }
   ],
   "source": [
    "def imshow(img):\n",
    "    img = img*std + mean\n",
    "    npimg = img.numpy()\n",
    "    plt.axis(\"off\")\n",
    "    npimg = np.transpose(npimg,(1,2,0))\n",
    "    plt.imshow(npimg)\n",
    "    plt.show\n",
    "    \n",
    "dataiter = iter(trainLoader)\n",
    "images,labels = dataiter.next()\n",
    "\n",
    "# print(images.shape)\n",
    "imshow(torchvision.utils.make_grid(images))\n",
    "\n",
    "print(\" \".join(str(labels[j].numpy()) for j in range(nbatch)))"
   ]
  },
  {
   "cell_type": "markdown",
   "metadata": {},
   "source": [
    "#### First of All: Relationship between input and output sizes.\n",
    "\n",
    "* **Input**: W1xH1xD1\n",
    "    * Filter size: FxF\n",
    "    * Number of Filters: K\n",
    "    * Stride: S\n",
    "    * (zero) Padding: P\n",
    "* **Output**: W2xH2xD2\n",
    "    * W2 = (W1 - F + 2P)/S + 1\n",
    "    * H2 = (H1 - F + 2P)/S + 1\n",
    "    * D2 = K\n",
    "    "
   ]
  },
  {
   "cell_type": "markdown",
   "metadata": {},
   "source": [
    "## Architecture"
   ]
  },
  {
   "cell_type": "markdown",
   "metadata": {},
   "source": [
    "* Input: nbatchesx1x28x28\n",
    "* ReLu of Conv2D with K = 6 F = 3 S = 1 P = 0: $\\rightarrow$ nbatchesx6x26x26\n",
    "* ReLu of MaxPool2D with 2x2: $\\rightarrow$ nbatchesx6x13x13\n",
    "* ReLu of Conv2D with K: = 16 F = 2 S = 1 P = 0: $\\rightarrow$ nbatchesx16x12x12\n",
    "* ReLu of MaxPool2D with 3x3:  $\\rightarrow$ nbatchesx16x4x4\n",
    "* Flatten: nbatchesx16x4x4: $\\rightarrow$ nbatchesx256\n",
    "* ReLu of Fully Connected: $\\rightarrow$ nbatchesx128\n",
    "* ReLu of Fully Connected: $\\rightarrow$ nbatchesx64\n",
    "* ReLu of Fully Connected: $\\rightarrow$ nbatchesx10\n",
    "  \n",
    "  \n",
    "* Loss Function:\n",
    "        Cross Entropy Loss\n",
    "* Optimizer:\n",
    "        Stochastic Gradient Decent with learning rate = 0.0001 and momentum = 0.1"
   ]
  },
  {
   "cell_type": "code",
   "execution_count": 2,
   "metadata": {},
   "outputs": [],
   "source": [
    "import torch.nn as nn\n",
    "import torch.nn.functional as F\n",
    "\n",
    "class Net(nn.Module):\n",
    "    def __init__(self):\n",
    "        super(Net,self).__init__()\n",
    "        self.cL = nn.Conv2d(in_channels=1,out_channels=6,kernel_size=3)\n",
    "        self.pL = nn.MaxPool2d(2)\n",
    "        self.cL2 = nn.Conv2d(6,16,2)\n",
    "        self.pL2 = nn.MaxPool2d(3)\n",
    "        self.fL = nn.Linear(16*4*4,128)\n",
    "        self.fL2 = nn.Linear(128,64)\n",
    "        self.fL3 = nn.Linear(64,10)\n",
    "    def forward(self,x):\n",
    "        x = self.pL(F.relu(self.cL(x)))\n",
    "#         print(x.shape)\n",
    "        x = self.pL2(F.relu(self.cL2(x)))\n",
    "#         print(x.shape)\n",
    "        x = x.view(-1,16*4*4)\n",
    "#         print(x.shape)\n",
    "        x = F.relu(self.fL(x))\n",
    "#         print(x.shape)\n",
    "        x = F.relu(self.fL2(x))\n",
    "#         print(x.shape)\n",
    "        x = F.relu(self.fL3(x))\n",
    "#         print(x.shape)\n",
    "        return x\n",
    "\n",
    "model = Net()"
   ]
  },
  {
   "cell_type": "markdown",
   "metadata": {},
   "source": [
    "### To Do:\n",
    "* Split trianing data in training and validation (will be done later)\n",
    "    * looks like the built in methos by torch doesn-t help \n",
    "* Store losses so you can plot training curves\n",
    "* Compute time each epoch takes"
   ]
  },
  {
   "cell_type": "code",
   "execution_count": 7,
   "metadata": {},
   "outputs": [
    {
     "name": "stdout",
     "output_type": "stream",
     "text": [
      "epoch: 0, i: 2000 / 12000 batches, running loss: 2.2259236247837544\n",
      "epoch: 0, i: 4000 / 12000 batches, running loss: 1.1439541743434967\n",
      "epoch: 0, i: 6000 / 12000 batches, running loss: 0.7233245826901402\n",
      "epoch: 0, i: 8000 / 12000 batches, running loss: 0.6275781243389938\n",
      "epoch: 0, i: 10000 / 12000 batches, running loss: 0.6013570441163901\n",
      "epoch: 0, i: 12000 / 12000 batches, running loss: 0.5810205454144889\n",
      "epoch time 1.152265985806783 : 9.135959148406982 s, Loss: 0.9838596826145442\n",
      "epoch: 1, i: 2000 / 12000 batches, running loss: 0.3532726227766434\n",
      "epoch: 1, i: 4000 / 12000 batches, running loss: 0.1325463449368617\n",
      "epoch: 1, i: 6000 / 12000 batches, running loss: 0.11480394130855712\n",
      "epoch: 1, i: 8000 / 12000 batches, running loss: 0.09252474997489844\n",
      "epoch: 1, i: 10000 / 12000 batches, running loss: 0.08062447963885642\n",
      "epoch: 1, i: 12000 / 12000 batches, running loss: 0.09360043342517747\n",
      "epoch time 1.1873501499493917 : 11.241008996963501 s, Loss: 0.1445620953434991\n",
      "epoch: 2, i: 2000 / 12000 batches, running loss: 0.07735364803684842\n",
      "epoch: 2, i: 4000 / 12000 batches, running loss: 0.07601327917544949\n",
      "epoch: 2, i: 6000 / 12000 batches, running loss: 0.07368773294246103\n",
      "epoch: 2, i: 8000 / 12000 batches, running loss: 0.0709129071127536\n",
      "epoch: 2, i: 10000 / 12000 batches, running loss: 0.06415826389872109\n",
      "epoch: 2, i: 12000 / 12000 batches, running loss: 0.06675789514551707\n",
      "epoch time 1.1527766863505045 : 9.166601181030273 s, Loss: 0.07148062105195845\n",
      "training completed\n"
     ]
    },
    {
     "data": {
      "text/plain": [
       "[<matplotlib.lines.Line2D at 0x1d22318b3c8>]"
      ]
     },
     "execution_count": 7,
     "metadata": {},
     "output_type": "execute_result"
    },
    {
     "data": {
      "image/png": "[encoded data removed]",
      "text/plain": [
       "<Figure size 432x288 with 1 Axes>"
      ]
     },
     "metadata": {
      "needs_background": "light"
     },
     "output_type": "display_data"
    }
   ],
   "source": [
    "import torch.optim as optim\n",
    "criterion = nn.CrossEntropyLoss()\n",
    "optimizer = optim.SGD(model.parameters(),lr=0.001,momentum=0.9)\n",
    "\n",
    "running_loss =0\n",
    "epoch_losses = []\n",
    "\n",
    "for epoch in range(3):\n",
    "    epoch_loss = 0\n",
    "    start = time.time()\n",
    "    for i,data in enumerate(trainLoader):\n",
    "        images,labels = data\n",
    "#         print(images.shape)\n",
    "        optimizer.zero_grad()\n",
    "        pred_labels = model(images)\n",
    "        loss = criterion(pred_labels,labels)\n",
    "        loss.backward()\n",
    "        optimizer.step()\n",
    "        running_loss += loss.item()\n",
    "        if(i%2000==1999): \n",
    "            epoch_loss += running_loss /2000\n",
    "            print(\"epoch: {}, i: {} / {} batches, running loss: {}\".format(epoch,i+1,12000,np.mean(running_loss/2000)))\n",
    "            running_loss = 0\n",
    "    epoch_losses.append(epoch_loss/6)\n",
    "    epoch_time = time.time() - start\n",
    "    print(\"epoch time {:.3f} : {:.3f} s, Loss: {:.3f}\".format(epoch_time/ 60, epoch_time % 60,epoch_loss/6))\n",
    "        \n",
    "print(\"training completed\")\n",
    "plt.plot(epoch_losses)"
   ]
  },
  {
   "cell_type": "code",
   "execution_count": 17,
   "metadata": {},
   "outputs": [
    {
     "name": "stdout",
     "output_type": "stream",
     "text": [
      "predicted\n",
      "7 1 1 6 3\n",
      "true\n",
      "7 1 1 6 3\n"
     ]
    },
    {
     "data": {
      "image/png": "[encoded data removed]",
      "text/plain": [
       "<Figure size 432x288 with 1 Axes>"
      ]
     },
     "metadata": {
      "needs_background": "light"
     },
     "output_type": "display_data"
    }
   ],
   "source": [
    "dataiter = iter(testLoader)\n",
    "images,labels = dataiter.next()\n",
    "with torch.no_grad():\n",
    "    outs = model(images)\n",
    "\n",
    "def imshow(img):\n",
    "    img = img*std + mean\n",
    "    npimg = img.numpy()\n",
    "    plt.axis(\"off\")\n",
    "    npimg = np.transpose(npimg,(1,2,0))\n",
    "    plt.imshow(npimg)\n",
    "    plt.show\n",
    "    \n",
    "\n",
    "pred_labels = torch.max(outs,1)[1]\n",
    "\n",
    "# print(images.shape)\n",
    "imshow(torchvision.utils.make_grid(images))\n",
    "print(\"predicted\")\n",
    "print(\" \".join(str(pred_labels[j].numpy()) for j in range(nbatch)))\n",
    "print(\"true\")\n",
    "print(\" \".join(str(labels[j].numpy()) for j in range(nbatch)))"
   ]
  },
  {
   "cell_type": "code",
   "execution_count": 22,
   "metadata": {},
   "outputs": [
    {
     "data": {
      "text/plain": [
       "5"
      ]
     },
     "execution_count": 22,
     "metadata": {},
     "output_type": "execute_result"
    }
   ],
   "source": [
    "labels.shape[0]"
   ]
  },
  {
   "cell_type": "code",
   "execution_count": 28,
   "metadata": {},
   "outputs": [
    {
     "name": "stdout",
     "output_type": "stream",
     "text": [
      "Accuracy of the network on the 10000 test images = 98.42 %\n"
     ]
    }
   ],
   "source": [
    "# checking accuracy\n",
    "total,correct =0, 0\n",
    "with torch.no_grad():\n",
    "    for data in testLoader:\n",
    "        images,labels = data\n",
    "        outs = model(images)\n",
    "        pred_labels = torch.max(outs.data,1)[1]\n",
    "        total += labels.shape[0]\n",
    "        correct += (pred_labels == labels).sum().item()\n",
    "\n",
    "print(\"Accuracy of the network on the {} test images = {:.2f} %\".format(testset.__len__(),100*correct/total))"
   ]
  },
  {
   "cell_type": "code",
   "execution_count": 30,
   "metadata": {},
   "outputs": [],
   "source": [
    "# saving trained model:\n",
    "# save trained model\n",
    "PATH = \"./MNIST_cnn.pth\"\n",
    "torch.save(model.state_dict(),PATH)"
   ]
  },
  {
   "cell_type": "code",
   "execution_count": 13,
   "metadata": {},
   "outputs": [
    {
     "data": {
      "text/plain": [
       "tensor([2, 2, 9, 7, 4])"
      ]
     },
     "execution_count": 13,
     "metadata": {},
     "output_type": "execute_result"
    }
   ],
   "source": [
    "torch.max(pred_labels,1)[1]"
   ]
  },
  {
   "cell_type": "markdown",
   "metadata": {},
   "source": [
    "#### Testing from trained Model"
   ]
  },
  {
   "cell_type": "code",
   "execution_count": 9,
   "metadata": {},
   "outputs": [
    {
     "name": "stdout",
     "output_type": "stream",
     "text": [
      "predicted\n",
      "0 6 9 6 0\n",
      "true\n",
      "0 6 9 6 0\n",
      "Accuracy of the network on the 10000 test images = 98.42 %\n"
     ]
    },
    {
     "data": {
      "image/png": "[encoded data removed]",
      "text/plain": [
       "<Figure size 432x288 with 1 Axes>"
      ]
     },
     "metadata": {
      "needs_background": "light"
     },
     "output_type": "display_data"
    }
   ],
   "source": [
    "mean,std = 0,1\n",
    "transform = transforms.Compose([transforms.ToTensor(),transforms.Normalize([mean],[std])])\n",
    "\n",
    "nbatch = 5\n",
    "trainset = torchvision.datasets.MNIST(root=\"./MNISTdataset\",train=True,download=True,transform=transform)\n",
    "trainLoader = torch.utils.data.DataLoader(trainset,batch_size=nbatch,shuffle=True,num_workers=2) # no idea what shuffle and nworkers do\n",
    "testset = torchvision.datasets.MNIST(root=\"./MNISTdataset\",train=False,download=True,transform=transform)\n",
    "testLoader =  torch.utils.data.DataLoader(testset,batch_size=nbatch,shuffle=True,num_workers=2) \n",
    "\n",
    "\n",
    "\n",
    "import torch.nn as nn\n",
    "import torch.nn.functional as F\n",
    "\n",
    "class Net(nn.Module):\n",
    "    def __init__(self):\n",
    "        super(Net,self).__init__()\n",
    "        self.cL = nn.Conv2d(in_channels=1,out_channels=6,kernel_size=3)\n",
    "        self.pL = nn.MaxPool2d(2)\n",
    "        self.cL2 = nn.Conv2d(6,16,2)\n",
    "        self.pL2 = nn.MaxPool2d(3)\n",
    "        self.fL = nn.Linear(16*4*4,128)\n",
    "        self.fL2 = nn.Linear(128,64)\n",
    "        self.fL3 = nn.Linear(64,10)\n",
    "    def forward(self,x):\n",
    "        x = self.pL(F.relu(self.cL(x)))\n",
    "#         print(x.shape)\n",
    "        x = self.pL2(F.relu(self.cL2(x)))\n",
    "#         print(x.shape)\n",
    "        x = x.view(-1,16*4*4)\n",
    "#         print(x.shape)\n",
    "        x = F.relu(self.fL(x))\n",
    "#         print(x.shape)\n",
    "        x = F.relu(self.fL2(x))\n",
    "#         print(x.shape)\n",
    "        x = F.relu(self.fL3(x))\n",
    "#         print(x.shape)\n",
    "        return x\n",
    "\n",
    "model = Net()\n",
    "\n",
    "PATH = \"./MNIST_cnn.pth\"\n",
    "model = Net()\n",
    "model.load_state_dict(torch.load(PATH))\n",
    "\n",
    "dataiter = iter(testLoader)\n",
    "images,labels = dataiter.next()\n",
    "with torch.no_grad():\n",
    "    outs = model(images)\n",
    "\n",
    "def imshow(img):\n",
    "    img = img*std + mean\n",
    "    npimg = img.numpy()\n",
    "    plt.axis(\"off\")\n",
    "    npimg = np.transpose(npimg,(1,2,0))\n",
    "    plt.imshow(npimg)\n",
    "    plt.show\n",
    "    \n",
    "\n",
    "pred_labels = torch.max(outs,1)[1]\n",
    "\n",
    "# print(images.shape)\n",
    "imshow(torchvision.utils.make_grid(images))\n",
    "print(\"predicted\")\n",
    "print(\" \".join(str(pred_labels[j].numpy()) for j in range(nbatch)))\n",
    "print(\"true\")\n",
    "print(\" \".join(str(labels[j].numpy()) for j in range(nbatch)))\n",
    "\n",
    "# checking accuracy\n",
    "total,correct =0, 0\n",
    "with torch.no_grad():\n",
    "    for data in testLoader:\n",
    "        images,labels = data\n",
    "        outs = model(images)\n",
    "        pred_labels = torch.max(outs.data,1)[1]\n",
    "        total += labels.shape[0]\n",
    "        correct += (pred_labels == labels).sum().item()\n",
    "\n",
    "print(\"Accuracy of the network on the {} test images = {:.2f} %\".format(testset.__len__(),100*correct/total))"
   ]
  }
 ],
 "metadata": {
  "kernelspec": {
   "display_name": "Python 3",
   "language": "python",
   "name": "python3"
  },
  "language_info": {
   "codemirror_mode": {
    "name": "ipython",
    "version": 3
   },
   "file_extension": ".py",
   "mimetype": "text/x-python",
   "name": "python",
   "nbconvert_exporter": "python",
   "pygments_lexer": "ipython3",
   "version": "3.7.6"
  }
 },
 "nbformat": 4,
 "nbformat_minor": 4
}
